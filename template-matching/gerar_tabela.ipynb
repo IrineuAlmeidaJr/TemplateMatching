{
 "cells": [
  {
   "cell_type": "code",
   "execution_count": 236,
   "metadata": {
    "collapsed": true
   },
   "outputs": [],
   "source": [
    "import datetime\n",
    "import pandas as pd\n",
    "import matplotlib.pyplot as plt"
   ]
  },
  {
   "cell_type": "code",
   "execution_count": 237,
   "outputs": [],
   "source": [
    "dataframe_curitiba = pd.read_csv('resultado/dados_curitiba.csv', sep=\";\")\n",
    "dataframe_machado = pd.read_csv('resultado/dados_alvares_machado.csv', sep=\";\")\n",
    "dataframe_diferente = pd.read_csv('resultado/dados_diferente.csv', sep=\";\")"
   ],
   "metadata": {
    "collapsed": false
   }
  },
  {
   "cell_type": "code",
   "execution_count": 238,
   "outputs": [],
   "source": [
    "dataframe_curitiba = dataframe_curitiba.dropna(axis=1, how='all')\n",
    "dataframe_machado = dataframe_machado.dropna(axis=1, how='all')\n",
    "dataframe_diferente = dataframe_diferente.dropna(axis=1, how='all')"
   ],
   "metadata": {
    "collapsed": false
   }
  },
  {
   "cell_type": "code",
   "execution_count": 239,
   "outputs": [],
   "source": [
    "dataframe_curitiba['Matche'] = 1\n",
    "dataframe_machado['Matche'] = 1\n",
    "dataframe_diferente['Matche'] = 0"
   ],
   "metadata": {
    "collapsed": false
   }
  },
  {
   "cell_type": "code",
   "execution_count": 240,
   "outputs": [],
   "source": [
    "df_cidades_matche = pd.concat([dataframe_curitiba, dataframe_machado, dataframe_diferente], ignore_index=True)"
   ],
   "metadata": {
    "collapsed": false
   }
  },
  {
   "cell_type": "code",
   "execution_count": 241,
   "outputs": [],
   "source": [
    "colunas_a_manter = ['SIFT_SIFT_Inliers', 'SIFT_SIFT_Distancia', 'SIFT_SIFT_Tempo', 'SIFT_SIFT_45_Inliers', 'SIFT_SIFT_45_Distancia', 'SIFT_SIFT_45_Tempo', 'ORB_ORB_Inliers', 'ORB_ORB_Distancia', 'ORB_ORB_Tempo', 'ORB_ORB_45_Inliers', 'ORB_ORB_45_Distancia', 'ORB_ORB_45_Tempo', 'AKAZE_AKAZE_Inliers', 'AKAZE_AKAZE_Distancia', 'AKAZE_AKAZE_Tempo', 'AKAZE_AKAZE_45_Inliers', 'AKAZE_AKAZE_45_Distancia', 'AKAZE_AKAZE_45_Tempo', 'FAST_BRIEF_Inliers', 'FAST_BRIEF_Distancia', 'FAST_BRIEF_Tempo', 'FAST_BRIEF_45_Inliers', 'FAST_BRIEF_45_Distancia', 'FAST_BRIEF_45_Tempo', 'FAST_SIFT_Inliers', 'FAST_SIFT_Distancia', 'FAST_SIFT_Tempo', 'FAST_SIFT_45_Inliers', 'FAST_SIFT_45_Distancia', 'FAST_SIFT_45_Tempo', 'Matche']\n",
    "\n",
    "df_cidades_matche = df_cidades_matche[colunas_a_manter]"
   ],
   "metadata": {
    "collapsed": false
   }
  },
  {
   "cell_type": "code",
   "execution_count": 242,
   "outputs": [],
   "source": [
    "colunas_a_converter = ['SIFT_SIFT_Tempo', 'SIFT_SIFT_45_Tempo', 'ORB_ORB_Tempo', 'ORB_ORB_45_Tempo', 'AKAZE_AKAZE_Tempo', 'AKAZE_AKAZE_45_Tempo', 'FAST_BRIEF_Tempo', 'FAST_BRIEF_45_Tempo', 'FAST_SIFT_Tempo', 'FAST_SIFT_45_Tempo']\n",
    "\n",
    "df_cidades_matche[colunas_a_converter] = df_cidades_matche[colunas_a_converter].apply(pd.to_timedelta)"
   ],
   "metadata": {
    "collapsed": false
   }
  },
  {
   "cell_type": "code",
   "execution_count": 243,
   "outputs": [
    {
     "data": {
      "text/plain": "     SIFT_SIFT_Inliers  SIFT_SIFT_Distancia        SIFT_SIFT_Tempo  \\\n0                   27             1.229145 0 days 00:00:11.283535   \n1                   50             0.971185 0 days 00:00:14.163706   \n2                   67             1.218312 0 days 00:00:14.267745   \n3                   23             1.967620 0 days 00:00:08.864164   \n4                   76             1.336487 0 days 00:00:08.434151   \n..                 ...                  ...                    ...   \n144                  6            -1.000000 0 days 00:00:14.421506   \n145                  7            -1.000000 0 days 00:00:14.820071   \n146                  7            -1.000000 0 days 00:00:09.475139   \n147                  6            -1.000000 0 days 00:00:14.791858   \n148                  8            -1.000000 0 days 00:00:29.506089   \n\n     SIFT_SIFT_45_Inliers  SIFT_SIFT_45_Distancia     SIFT_SIFT_45_Tempo  \\\n0                      24                1.572636 0 days 00:00:08.663805   \n1                      32                0.759598 0 days 00:00:11.778045   \n2                      66                1.195912 0 days 00:00:11.460320   \n3                      24                1.347059 0 days 00:00:07.214806   \n4                      62                1.238457 0 days 00:00:07.738637   \n..                    ...                     ...                    ...   \n144                     5               -1.000000 0 days 00:00:11.370728   \n145                     5               -1.000000 0 days 00:00:10.294757   \n146                    20               -1.000000 0 days 00:00:07.866433   \n147                     7               -1.000000 0 days 00:00:11.489235   \n148                     8               -1.000000 0 days 00:00:23.464957   \n\n     ORB_ORB_Inliers  ORB_ORB_Distancia          ORB_ORB_Tempo  \\\n0                  7           0.950979 0 days 00:00:00.165388   \n1                 10           1.230056 0 days 00:00:00.068307   \n2                 36           1.442882 0 days 00:00:00.071037   \n3                  9          -1.000000 0 days 00:00:00.064496   \n4                  7          -1.000000 0 days 00:00:00.058012   \n..               ...                ...                    ...   \n144                7          -1.000000 0 days 00:00:00.074863   \n145                8          -1.000000 0 days 00:00:00.065711   \n146                6          -1.000000 0 days 00:00:00.060091   \n147                9          -1.000000 0 days 00:00:00.068731   \n148                7          -1.000000 0 days 00:00:00.102642   \n\n     ORB_ORB_45_Inliers  ...  FAST_BRIEF_45_Inliers FAST_BRIEF_45_Distancia  \\\n0                     7  ...                      7                    -1.0   \n1                     8  ...                      7                    -1.0   \n2                    31  ...                      6                    -1.0   \n3                     9  ...                      8                    -1.0   \n4                     8  ...                      0                    -1.0   \n..                  ...  ...                    ...                     ...   \n144                   9  ...                      7                    -1.0   \n145                   7  ...                      6                    -1.0   \n146                   6  ...                      7                    -1.0   \n147                   7  ...                      7                    -1.0   \n148                   7  ...                      6                    -1.0   \n\n       FAST_BRIEF_45_Tempo  FAST_SIFT_Inliers FAST_SIFT_Distancia  \\\n0   0 days 00:00:05.886752                 27            1.229145   \n1   0 days 00:00:06.350212                 50            0.971185   \n2   0 days 00:00:05.046830                 67            1.218312   \n3   0 days 00:00:04.010255                 23            1.967620   \n4   0 days 00:00:03.770177                 76            1.336487   \n..                     ...                ...                 ...   \n144 0 days 00:00:09.392557                  6           -1.000000   \n145 0 days 00:00:05.723275                  7           -1.000000   \n146 0 days 00:00:02.963313                  7           -1.000000   \n147 0 days 00:00:04.422857                  6           -1.000000   \n148 0 days 00:00:10.582269                  8           -1.000000   \n\n           FAST_SIFT_Tempo  FAST_SIFT_45_Inliers FAST_SIFT_45_Distancia  \\\n0   0 days 00:00:11.536826                    24               1.572636   \n1   0 days 00:00:14.628687                    32               0.759598   \n2   0 days 00:00:14.377267                    66               1.195912   \n3   0 days 00:00:09.151613                    24               1.347059   \n4   0 days 00:00:08.821235                    62               1.238457   \n..                     ...                   ...                    ...   \n144 0 days 00:00:15.594355                     5              -1.000000   \n145 0 days 00:00:15.330339                     5              -1.000000   \n146 0 days 00:00:09.641313                    20              -1.000000   \n147 0 days 00:00:15.417399                     7              -1.000000   \n148 0 days 00:00:30.686882                     8              -1.000000   \n\n        FAST_SIFT_45_Tempo  Matche  \n0   0 days 00:00:08.712865       1  \n1   0 days 00:00:12.206487       1  \n2   0 days 00:00:11.776442       1  \n3   0 days 00:00:07.430299       1  \n4   0 days 00:00:07.956251       1  \n..                     ...     ...  \n144 0 days 00:00:11.592644       0  \n145 0 days 00:00:10.496101       0  \n146 0 days 00:00:07.970798       0  \n147 0 days 00:00:11.918321       0  \n148 0 days 00:00:23.779385       0  \n\n[149 rows x 31 columns]",
      "text/html": "<div>\n<style scoped>\n    .dataframe tbody tr th:only-of-type {\n        vertical-align: middle;\n    }\n\n    .dataframe tbody tr th {\n        vertical-align: top;\n    }\n\n    .dataframe thead th {\n        text-align: right;\n    }\n</style>\n<table border=\"1\" class=\"dataframe\">\n  <thead>\n    <tr style=\"text-align: right;\">\n      <th></th>\n      <th>SIFT_SIFT_Inliers</th>\n      <th>SIFT_SIFT_Distancia</th>\n      <th>SIFT_SIFT_Tempo</th>\n      <th>SIFT_SIFT_45_Inliers</th>\n      <th>SIFT_SIFT_45_Distancia</th>\n      <th>SIFT_SIFT_45_Tempo</th>\n      <th>ORB_ORB_Inliers</th>\n      <th>ORB_ORB_Distancia</th>\n      <th>ORB_ORB_Tempo</th>\n      <th>ORB_ORB_45_Inliers</th>\n      <th>...</th>\n      <th>FAST_BRIEF_45_Inliers</th>\n      <th>FAST_BRIEF_45_Distancia</th>\n      <th>FAST_BRIEF_45_Tempo</th>\n      <th>FAST_SIFT_Inliers</th>\n      <th>FAST_SIFT_Distancia</th>\n      <th>FAST_SIFT_Tempo</th>\n      <th>FAST_SIFT_45_Inliers</th>\n      <th>FAST_SIFT_45_Distancia</th>\n      <th>FAST_SIFT_45_Tempo</th>\n      <th>Matche</th>\n    </tr>\n  </thead>\n  <tbody>\n    <tr>\n      <th>0</th>\n      <td>27</td>\n      <td>1.229145</td>\n      <td>0 days 00:00:11.283535</td>\n      <td>24</td>\n      <td>1.572636</td>\n      <td>0 days 00:00:08.663805</td>\n      <td>7</td>\n      <td>0.950979</td>\n      <td>0 days 00:00:00.165388</td>\n      <td>7</td>\n      <td>...</td>\n      <td>7</td>\n      <td>-1.0</td>\n      <td>0 days 00:00:05.886752</td>\n      <td>27</td>\n      <td>1.229145</td>\n      <td>0 days 00:00:11.536826</td>\n      <td>24</td>\n      <td>1.572636</td>\n      <td>0 days 00:00:08.712865</td>\n      <td>1</td>\n    </tr>\n    <tr>\n      <th>1</th>\n      <td>50</td>\n      <td>0.971185</td>\n      <td>0 days 00:00:14.163706</td>\n      <td>32</td>\n      <td>0.759598</td>\n      <td>0 days 00:00:11.778045</td>\n      <td>10</td>\n      <td>1.230056</td>\n      <td>0 days 00:00:00.068307</td>\n      <td>8</td>\n      <td>...</td>\n      <td>7</td>\n      <td>-1.0</td>\n      <td>0 days 00:00:06.350212</td>\n      <td>50</td>\n      <td>0.971185</td>\n      <td>0 days 00:00:14.628687</td>\n      <td>32</td>\n      <td>0.759598</td>\n      <td>0 days 00:00:12.206487</td>\n      <td>1</td>\n    </tr>\n    <tr>\n      <th>2</th>\n      <td>67</td>\n      <td>1.218312</td>\n      <td>0 days 00:00:14.267745</td>\n      <td>66</td>\n      <td>1.195912</td>\n      <td>0 days 00:00:11.460320</td>\n      <td>36</td>\n      <td>1.442882</td>\n      <td>0 days 00:00:00.071037</td>\n      <td>31</td>\n      <td>...</td>\n      <td>6</td>\n      <td>-1.0</td>\n      <td>0 days 00:00:05.046830</td>\n      <td>67</td>\n      <td>1.218312</td>\n      <td>0 days 00:00:14.377267</td>\n      <td>66</td>\n      <td>1.195912</td>\n      <td>0 days 00:00:11.776442</td>\n      <td>1</td>\n    </tr>\n    <tr>\n      <th>3</th>\n      <td>23</td>\n      <td>1.967620</td>\n      <td>0 days 00:00:08.864164</td>\n      <td>24</td>\n      <td>1.347059</td>\n      <td>0 days 00:00:07.214806</td>\n      <td>9</td>\n      <td>-1.000000</td>\n      <td>0 days 00:00:00.064496</td>\n      <td>9</td>\n      <td>...</td>\n      <td>8</td>\n      <td>-1.0</td>\n      <td>0 days 00:00:04.010255</td>\n      <td>23</td>\n      <td>1.967620</td>\n      <td>0 days 00:00:09.151613</td>\n      <td>24</td>\n      <td>1.347059</td>\n      <td>0 days 00:00:07.430299</td>\n      <td>1</td>\n    </tr>\n    <tr>\n      <th>4</th>\n      <td>76</td>\n      <td>1.336487</td>\n      <td>0 days 00:00:08.434151</td>\n      <td>62</td>\n      <td>1.238457</td>\n      <td>0 days 00:00:07.738637</td>\n      <td>7</td>\n      <td>-1.000000</td>\n      <td>0 days 00:00:00.058012</td>\n      <td>8</td>\n      <td>...</td>\n      <td>0</td>\n      <td>-1.0</td>\n      <td>0 days 00:00:03.770177</td>\n      <td>76</td>\n      <td>1.336487</td>\n      <td>0 days 00:00:08.821235</td>\n      <td>62</td>\n      <td>1.238457</td>\n      <td>0 days 00:00:07.956251</td>\n      <td>1</td>\n    </tr>\n    <tr>\n      <th>...</th>\n      <td>...</td>\n      <td>...</td>\n      <td>...</td>\n      <td>...</td>\n      <td>...</td>\n      <td>...</td>\n      <td>...</td>\n      <td>...</td>\n      <td>...</td>\n      <td>...</td>\n      <td>...</td>\n      <td>...</td>\n      <td>...</td>\n      <td>...</td>\n      <td>...</td>\n      <td>...</td>\n      <td>...</td>\n      <td>...</td>\n      <td>...</td>\n      <td>...</td>\n      <td>...</td>\n    </tr>\n    <tr>\n      <th>144</th>\n      <td>6</td>\n      <td>-1.000000</td>\n      <td>0 days 00:00:14.421506</td>\n      <td>5</td>\n      <td>-1.000000</td>\n      <td>0 days 00:00:11.370728</td>\n      <td>7</td>\n      <td>-1.000000</td>\n      <td>0 days 00:00:00.074863</td>\n      <td>9</td>\n      <td>...</td>\n      <td>7</td>\n      <td>-1.0</td>\n      <td>0 days 00:00:09.392557</td>\n      <td>6</td>\n      <td>-1.000000</td>\n      <td>0 days 00:00:15.594355</td>\n      <td>5</td>\n      <td>-1.000000</td>\n      <td>0 days 00:00:11.592644</td>\n      <td>0</td>\n    </tr>\n    <tr>\n      <th>145</th>\n      <td>7</td>\n      <td>-1.000000</td>\n      <td>0 days 00:00:14.820071</td>\n      <td>5</td>\n      <td>-1.000000</td>\n      <td>0 days 00:00:10.294757</td>\n      <td>8</td>\n      <td>-1.000000</td>\n      <td>0 days 00:00:00.065711</td>\n      <td>7</td>\n      <td>...</td>\n      <td>6</td>\n      <td>-1.0</td>\n      <td>0 days 00:00:05.723275</td>\n      <td>7</td>\n      <td>-1.000000</td>\n      <td>0 days 00:00:15.330339</td>\n      <td>5</td>\n      <td>-1.000000</td>\n      <td>0 days 00:00:10.496101</td>\n      <td>0</td>\n    </tr>\n    <tr>\n      <th>146</th>\n      <td>7</td>\n      <td>-1.000000</td>\n      <td>0 days 00:00:09.475139</td>\n      <td>20</td>\n      <td>-1.000000</td>\n      <td>0 days 00:00:07.866433</td>\n      <td>6</td>\n      <td>-1.000000</td>\n      <td>0 days 00:00:00.060091</td>\n      <td>6</td>\n      <td>...</td>\n      <td>7</td>\n      <td>-1.0</td>\n      <td>0 days 00:00:02.963313</td>\n      <td>7</td>\n      <td>-1.000000</td>\n      <td>0 days 00:00:09.641313</td>\n      <td>20</td>\n      <td>-1.000000</td>\n      <td>0 days 00:00:07.970798</td>\n      <td>0</td>\n    </tr>\n    <tr>\n      <th>147</th>\n      <td>6</td>\n      <td>-1.000000</td>\n      <td>0 days 00:00:14.791858</td>\n      <td>7</td>\n      <td>-1.000000</td>\n      <td>0 days 00:00:11.489235</td>\n      <td>9</td>\n      <td>-1.000000</td>\n      <td>0 days 00:00:00.068731</td>\n      <td>7</td>\n      <td>...</td>\n      <td>7</td>\n      <td>-1.0</td>\n      <td>0 days 00:00:04.422857</td>\n      <td>6</td>\n      <td>-1.000000</td>\n      <td>0 days 00:00:15.417399</td>\n      <td>7</td>\n      <td>-1.000000</td>\n      <td>0 days 00:00:11.918321</td>\n      <td>0</td>\n    </tr>\n    <tr>\n      <th>148</th>\n      <td>8</td>\n      <td>-1.000000</td>\n      <td>0 days 00:00:29.506089</td>\n      <td>8</td>\n      <td>-1.000000</td>\n      <td>0 days 00:00:23.464957</td>\n      <td>7</td>\n      <td>-1.000000</td>\n      <td>0 days 00:00:00.102642</td>\n      <td>7</td>\n      <td>...</td>\n      <td>6</td>\n      <td>-1.0</td>\n      <td>0 days 00:00:10.582269</td>\n      <td>8</td>\n      <td>-1.000000</td>\n      <td>0 days 00:00:30.686882</td>\n      <td>8</td>\n      <td>-1.000000</td>\n      <td>0 days 00:00:23.779385</td>\n      <td>0</td>\n    </tr>\n  </tbody>\n</table>\n<p>149 rows × 31 columns</p>\n</div>"
     },
     "execution_count": 243,
     "metadata": {},
     "output_type": "execute_result"
    }
   ],
   "source": [
    "df_cidades_matche"
   ],
   "metadata": {
    "collapsed": false
   }
  },
  {
   "cell_type": "code",
   "execution_count": 244,
   "outputs": [],
   "source": [
    "# Cria DataFrama que será usado para gerar a tabela\n",
    "df_resultado_final = pd.DataFrame(columns=['Combinacao', 'Tempo', 'DMI', 'Acertos', 'Acuracia'])"
   ],
   "metadata": {
    "collapsed": false
   }
  },
  {
   "cell_type": "code",
   "execution_count": 245,
   "outputs": [],
   "source": [
    "# Criar linha para alimentar o dataframe criado acima\n",
    "\n",
    "# SIFT_SIFT\n",
    "total_tempo = df_cidades_matche['SIFT_SIFT_Tempo'].sum()\n",
    "total_tempo_segundos = int(total_tempo.total_seconds())\n",
    "\n",
    "dmi = df_cidades_matche[df_cidades_matche['SIFT_SIFT_Distancia'] >= 0]['SIFT_SIFT_Distancia'].mean()\n",
    "\n",
    "acertos = 0\n",
    "for _, row in df_cidades_matche.iterrows():\n",
    "    if row['SIFT_SIFT_Distancia'] > 0 and row['Matche'] == 1:\n",
    "        acertos += 1\n",
    "    elif row['SIFT_SIFT_Distancia'] == -1 and row['Matche'] == 0:\n",
    "        acertos += 1\n",
    "\n",
    "acuracia = acertos / 149\n",
    "\n",
    "linha = {'Combinacao': 'SIFT-SIFT', 'Tempo': total_tempo_segundos, 'DMI': dmi, 'Acertos': acertos}\n",
    "df_resultado_final = pd.concat([df_resultado_final, pd.DataFrame([linha])], ignore_index=True)\n",
    "\n",
    "\n",
    "## ----------------\n",
    "# SIFT_SIFT_45\n",
    "total_tempo = df_cidades_matche['SIFT_SIFT_45_Tempo'].sum()\n",
    "total_tempo_segundos = int(total_tempo.total_seconds())\n",
    "\n",
    "dmi = df_cidades_matche[df_cidades_matche['SIFT_SIFT_45_Distancia'] >= 0]['SIFT_SIFT_45_Distancia'].mean()\n",
    "\n",
    "acertos = 0\n",
    "for _, row in df_cidades_matche.iterrows():\n",
    "    if row['SIFT_SIFT_45_Distancia'] > 0 and row['Matche'] == 1:\n",
    "        acertos += 1\n",
    "    elif row['SIFT_SIFT_45_Distancia'] == -1 and row['Matche'] == 0:\n",
    "        acertos += 1\n",
    "\n",
    "linha = {'Combinacao': 'SIFT-SIFT-45', 'Tempo': total_tempo_segundos, 'DMI': dmi, 'Acertos': acertos}\n",
    "df_resultado_final = pd.concat([df_resultado_final, pd.DataFrame([linha])], ignore_index=True)\n",
    "\n",
    "\n",
    "\n",
    "## ----------------\n",
    "# ORB_ORB\n",
    "total_tempo = df_cidades_matche['ORB_ORB_Tempo'].sum()\n",
    "total_tempo_segundos = int(total_tempo.total_seconds())\n",
    "\n",
    "dmi = df_cidades_matche[df_cidades_matche['ORB_ORB_Distancia'] >= 0]['ORB_ORB_Distancia'].mean()\n",
    "\n",
    "acertos = 0\n",
    "for _, row in df_cidades_matche.iterrows():\n",
    "    if row['ORB_ORB_Distancia'] > 0 and row['Matche'] == 1:\n",
    "        acertos += 1\n",
    "    elif row['ORB_ORB_Distancia'] == -1 and row['Matche'] == 0:\n",
    "        acertos += 1\n",
    "\n",
    "linha = {'Combinacao': 'ORB-ORB', 'Tempo': total_tempo_segundos, 'DMI': dmi, 'Acertos': acertos}\n",
    "df_resultado_final = pd.concat([df_resultado_final, pd.DataFrame([linha])], ignore_index=True)\n",
    "\n",
    "\n",
    "\n",
    "## ----------------\n",
    "# ORB_ORB_45\n",
    "total_tempo = df_cidades_matche['ORB_ORB_45_Tempo'].sum()\n",
    "total_tempo_segundos = int(total_tempo.total_seconds())\n",
    "\n",
    "dmi = df_cidades_matche[df_cidades_matche['ORB_ORB_45_Distancia'] >= 0]['ORB_ORB_45_Distancia'].mean()\n",
    "\n",
    "acertos = 0\n",
    "for _, row in df_cidades_matche.iterrows():\n",
    "    if row['ORB_ORB_45_Distancia'] > 0 and row['Matche'] == 1:\n",
    "        acertos += 1\n",
    "    elif row['ORB_ORB_45_Distancia'] == -1 and row['Matche'] == 0:\n",
    "        acertos += 1\n",
    "\n",
    "linha = {'Combinacao': 'ORB-ORB-45', 'Tempo': total_tempo_segundos, 'DMI': dmi, 'Acertos': acertos}\n",
    "df_resultado_final = pd.concat([df_resultado_final, pd.DataFrame([linha])], ignore_index=True)\n",
    "\n",
    "\n",
    "\n",
    "## ----------------\n",
    "# AKAZE_AKAZE\n",
    "total_tempo = df_cidades_matche['AKAZE_AKAZE_Tempo'].sum()\n",
    "total_tempo_segundos = int(total_tempo.total_seconds())\n",
    "\n",
    "dmi = df_cidades_matche[df_cidades_matche['AKAZE_AKAZE_Distancia'] >= 0]['AKAZE_AKAZE_Distancia'].mean()\n",
    "\n",
    "acertos = 0\n",
    "for _, row in df_cidades_matche.iterrows():\n",
    "    if row['AKAZE_AKAZE_Distancia'] > 0 and row['Matche'] == 1:\n",
    "        acertos += 1\n",
    "    elif row['AKAZE_AKAZE_Distancia'] == -1 and row['Matche'] == 0:\n",
    "        acertos += 1\n",
    "\n",
    "linha = {'Combinacao': 'AKAZE-AKAZE', 'Tempo': total_tempo_segundos, 'DMI': dmi, 'Acertos': acertos}\n",
    "df_resultado_final = pd.concat([df_resultado_final, pd.DataFrame([linha])], ignore_index=True)\n",
    "\n",
    "\n",
    "\n",
    "## ----------------\n",
    "# AKAZE_AKAZE_45\n",
    "total_tempo = df_cidades_matche['AKAZE_AKAZE_45_Tempo'].sum()\n",
    "total_tempo_segundos = int(total_tempo.total_seconds())\n",
    "\n",
    "dmi = df_cidades_matche[df_cidades_matche['AKAZE_AKAZE_45_Distancia'] >= 0]['AKAZE_AKAZE_45_Distancia'].mean()\n",
    "\n",
    "acertos = 0\n",
    "for _, row in df_cidades_matche.iterrows():\n",
    "    if row['AKAZE_AKAZE_45_Distancia'] > 0 and row['Matche'] == 1:\n",
    "        acertos += 1\n",
    "    elif row['AKAZE_AKAZE_45_Distancia'] == -1 and row['Matche'] == 0:\n",
    "        acertos += 1\n",
    "\n",
    "linha = {'Combinacao': 'AKAZE-AKAZE-45', 'Tempo': total_tempo_segundos, 'DMI': dmi, 'Acertos': acertos}\n",
    "df_resultado_final = pd.concat([df_resultado_final, pd.DataFrame([linha])], ignore_index=True)\n",
    "\n",
    "\n",
    "\n",
    "##----------------\n",
    "# FAST_BRIEF\n",
    "total_tempo = df_cidades_matche['FAST_BRIEF_Tempo'].sum()\n",
    "total_tempo_segundos = int(total_tempo.total_seconds())\n",
    "\n",
    "dmi = df_cidades_matche[df_cidades_matche['FAST_BRIEF_Distancia'] >= 0]['FAST_BRIEF_Distancia'].mean()\n",
    "\n",
    "acertos = 0\n",
    "for _, row in df_cidades_matche.iterrows():\n",
    "    if row['FAST_BRIEF_Distancia'] > 0 and row['Matche'] == 1:\n",
    "        acertos += 1\n",
    "    elif row['FAST_BRIEF_Distancia'] == -1 and row['Matche'] == 0:\n",
    "        acertos += 1\n",
    "\n",
    "linha = {'Combinacao': 'FAST-BRIEF', 'Tempo': total_tempo_segundos, 'DMI': dmi, 'Acertos': acertos}\n",
    "df_resultado_final = pd.concat([df_resultado_final, pd.DataFrame([linha])], ignore_index=True)\n",
    "\n",
    "\n",
    "\n",
    "##----------------\n",
    "# FAST_BRIEF_45\n",
    "total_tempo = df_cidades_matche['FAST_BRIEF_45_Tempo'].sum()\n",
    "total_tempo_segundos = int(total_tempo.total_seconds())\n",
    "\n",
    "dmi = df_cidades_matche[df_cidades_matche['FAST_BRIEF_45_Distancia'] >= 0]['FAST_BRIEF_45_Distancia'].mean()\n",
    "\n",
    "acertos = 0\n",
    "for _, row in df_cidades_matche.iterrows():\n",
    "    if row['FAST_BRIEF_45_Distancia'] > 0 and row['Matche'] == 1:\n",
    "        acertos += 1\n",
    "    elif row['FAST_BRIEF_45_Distancia'] == -1 and row['Matche'] == 0:\n",
    "        acertos += 1\n",
    "\n",
    "linha = {'Combinacao': 'FAST-BRIEF-45', 'Tempo': total_tempo_segundos, 'DMI': dmi, 'Acertos': acertos}\n",
    "df_resultado_final = pd.concat([df_resultado_final, pd.DataFrame([linha])], ignore_index=True)\n",
    "\n",
    "\n",
    "\n",
    "##----------------\n",
    "# FAST_SIFT\n",
    "total_tempo = df_cidades_matche['FAST_SIFT_Tempo'].sum()\n",
    "total_tempo_segundos = int(total_tempo.total_seconds())\n",
    "\n",
    "dmi = df_cidades_matche[df_cidades_matche['FAST_SIFT_Distancia'] >= 0]['FAST_SIFT_Distancia'].mean()\n",
    "\n",
    "acertos = 0\n",
    "for _, row in df_cidades_matche.iterrows():\n",
    "    if row['FAST_SIFT_Distancia'] > 0 and row['Matche'] == 1:\n",
    "        acertos += 1\n",
    "    elif row['FAST_SIFT_Distancia'] == -1 and row['Matche'] == 0:\n",
    "        acertos += 1\n",
    "\n",
    "linha = {'Combinacao': 'FAST-SIFT', 'Tempo': total_tempo_segundos, 'DMI': dmi, 'Acertos': acertos}\n",
    "df_resultado_final = pd.concat([df_resultado_final, pd.DataFrame([linha])], ignore_index=True)\n",
    "\n",
    "\n",
    "\n",
    "##----------------\n",
    "# FAST_SIFT_45\n",
    "total_tempo = df_cidades_matche['FAST_SIFT_45_Tempo'].sum()\n",
    "total_tempo_segundos = int(total_tempo.total_seconds())\n",
    "\n",
    "dmi = df_cidades_matche[df_cidades_matche['FAST_SIFT_45_Distancia'] >= 0]['FAST_SIFT_45_Distancia'].mean()\n",
    "\n",
    "acertos = 0\n",
    "for _, row in df_cidades_matche.iterrows():\n",
    "    if row['FAST_SIFT_45_Distancia'] > 0 and row['Matche'] == 1:\n",
    "        acertos += 1\n",
    "    elif row['FAST_SIFT_45_Distancia'] == -1 and row['Matche'] == 0:\n",
    "        acertos += 1\n",
    "\n",
    "linha = {'Combinacao': 'FAST-SIFT-45', 'Tempo': total_tempo_segundos, 'DMI': dmi, 'Acertos': acertos}\n",
    "df_resultado_final = pd.concat([df_resultado_final, pd.DataFrame([linha])], ignore_index=True)"
   ],
   "metadata": {
    "collapsed": false
   }
  },
  {
   "cell_type": "code",
   "execution_count": 246,
   "outputs": [
    {
     "data": {
      "text/plain": "       Combinacao Tempo       DMI Acertos\n0       SIFT-SIFT  2054  1.468487     146\n1    SIFT-SIFT-45  1664  1.427681     143\n2         ORB-ORB    10  1.425566      73\n3      ORB-ORB-45     9  1.425090      60\n4     AKAZE-AKAZE   145  1.985104     107\n5  AKAZE-AKAZE-45   130  2.015568      98\n6      FAST-BRIEF  1021  1.938688     140\n7   FAST-BRIEF-45   747  1.503253      37\n8       FAST-SIFT  2135  1.468487     146\n9    FAST-SIFT-45  1689  1.427681     143",
      "text/html": "<div>\n<style scoped>\n    .dataframe tbody tr th:only-of-type {\n        vertical-align: middle;\n    }\n\n    .dataframe tbody tr th {\n        vertical-align: top;\n    }\n\n    .dataframe thead th {\n        text-align: right;\n    }\n</style>\n<table border=\"1\" class=\"dataframe\">\n  <thead>\n    <tr style=\"text-align: right;\">\n      <th></th>\n      <th>Combinacao</th>\n      <th>Tempo</th>\n      <th>DMI</th>\n      <th>Acertos</th>\n    </tr>\n  </thead>\n  <tbody>\n    <tr>\n      <th>0</th>\n      <td>SIFT-SIFT</td>\n      <td>2054</td>\n      <td>1.468487</td>\n      <td>146</td>\n    </tr>\n    <tr>\n      <th>1</th>\n      <td>SIFT-SIFT-45</td>\n      <td>1664</td>\n      <td>1.427681</td>\n      <td>143</td>\n    </tr>\n    <tr>\n      <th>2</th>\n      <td>ORB-ORB</td>\n      <td>10</td>\n      <td>1.425566</td>\n      <td>73</td>\n    </tr>\n    <tr>\n      <th>3</th>\n      <td>ORB-ORB-45</td>\n      <td>9</td>\n      <td>1.425090</td>\n      <td>60</td>\n    </tr>\n    <tr>\n      <th>4</th>\n      <td>AKAZE-AKAZE</td>\n      <td>145</td>\n      <td>1.985104</td>\n      <td>107</td>\n    </tr>\n    <tr>\n      <th>5</th>\n      <td>AKAZE-AKAZE-45</td>\n      <td>130</td>\n      <td>2.015568</td>\n      <td>98</td>\n    </tr>\n    <tr>\n      <th>6</th>\n      <td>FAST-BRIEF</td>\n      <td>1021</td>\n      <td>1.938688</td>\n      <td>140</td>\n    </tr>\n    <tr>\n      <th>7</th>\n      <td>FAST-BRIEF-45</td>\n      <td>747</td>\n      <td>1.503253</td>\n      <td>37</td>\n    </tr>\n    <tr>\n      <th>8</th>\n      <td>FAST-SIFT</td>\n      <td>2135</td>\n      <td>1.468487</td>\n      <td>146</td>\n    </tr>\n    <tr>\n      <th>9</th>\n      <td>FAST-SIFT-45</td>\n      <td>1689</td>\n      <td>1.427681</td>\n      <td>143</td>\n    </tr>\n  </tbody>\n</table>\n</div>"
     },
     "execution_count": 246,
     "metadata": {},
     "output_type": "execute_result"
    }
   ],
   "source": [
    "df_resultado_final"
   ],
   "metadata": {
    "collapsed": false
   }
  },
  {
   "cell_type": "code",
   "execution_count": 247,
   "outputs": [],
   "source": [
    "df_resultado_final.to_excel('resultado/resultado_final.xlsx', index=False)"
   ],
   "metadata": {
    "collapsed": false
   }
  }
 ],
 "metadata": {
  "kernelspec": {
   "display_name": "Python 3",
   "language": "python",
   "name": "python3"
  },
  "language_info": {
   "codemirror_mode": {
    "name": "ipython",
    "version": 2
   },
   "file_extension": ".py",
   "mimetype": "text/x-python",
   "name": "python",
   "nbconvert_exporter": "python",
   "pygments_lexer": "ipython2",
   "version": "2.7.6"
  }
 },
 "nbformat": 4,
 "nbformat_minor": 0
}
