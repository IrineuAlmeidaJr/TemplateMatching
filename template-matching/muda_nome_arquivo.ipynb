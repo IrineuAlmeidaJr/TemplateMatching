{
 "cells": [
  {
   "cell_type": "code",
   "execution_count": 1,
   "outputs": [],
   "source": [
    "from PIL import Image\n",
    "import os"
   ],
   "metadata": {
    "collapsed": false
   }
  },
  {
   "cell_type": "code",
   "execution_count": 11,
   "outputs": [],
   "source": [
    "def renomear_imagens(diretorio_origem, diretorio_destino, novo_prefixo):\n",
    "    # Lista todos os arquivos no diretório de origem\n",
    "    arquivos = os.listdir(diretorio_origem)\n",
    "\n",
    "    i = 101\n",
    "\n",
    "    for arquivo in arquivos:\n",
    "        # Verifica se o arquivo é uma imagem (pode adicionar mais extensões, se necessário)\n",
    "        if arquivo.lower().endswith(('.png', '.jpg', '.jpeg', '.gif')):\n",
    "            # Caminho completo do arquivo de origem\n",
    "            caminho_origem = os.path.join(diretorio_origem, arquivo)\n",
    "\n",
    "            # Abre a imagem usando Pillow\n",
    "            imagem = Image.open(caminho_origem)\n",
    "\n",
    "            # Novo nome do arquivo com o prefixo especificado\n",
    "            novo_nome = f\"{novo_prefixo}_{i}.jpg\"\n",
    "            print(novo_nome)\n",
    "\n",
    "            # Caminho completo do arquivo de destino\n",
    "            caminho_destino = os.path.join(diretorio_destino, novo_nome)\n",
    "\n",
    "            # Renomeia o arquivo\n",
    "            os.rename(caminho_origem, caminho_destino)\n",
    "\n",
    "            # Fecha a imagem\n",
    "            imagem.close()\n",
    "\n",
    "            i = i + 1"
   ],
   "metadata": {
    "collapsed": false
   }
  },
  {
   "cell_type": "code",
   "execution_count": 13,
   "outputs": [
    {
     "name": "stdout",
     "output_type": "stream",
     "text": [
      "diferente_101.jpg\n",
      "diferente_102.jpg\n",
      "diferente_103.jpg\n",
      "diferente_104.jpg\n",
      "diferente_105.jpg\n",
      "diferente_106.jpg\n",
      "diferente_107.jpg\n",
      "diferente_108.jpg\n",
      "diferente_109.jpg\n",
      "diferente_110.jpg\n",
      "diferente_111.jpg\n",
      "diferente_112.jpg\n",
      "diferente_113.jpg\n",
      "diferente_114.jpg\n",
      "diferente_115.jpg\n",
      "diferente_116.jpg\n",
      "diferente_117.jpg\n",
      "diferente_118.jpg\n",
      "diferente_119.jpg\n",
      "diferente_120.jpg\n",
      "diferente_121.jpg\n",
      "diferente_122.jpg\n",
      "diferente_123.jpg\n",
      "diferente_124.jpg\n",
      "diferente_125.jpg\n",
      "diferente_126.jpg\n",
      "diferente_127.jpg\n",
      "diferente_128.jpg\n",
      "diferente_129.jpg\n"
     ]
    }
   ],
   "source": [
    "# Substitua 'caminho/para/imagens' pelo caminho do seu diretório de imagens\n",
    "diretorio_origem = '/Users/irineu/GitHub/template-matching/template-matching/database/outros/mudada'\n",
    "\n",
    "# Substitua 'caminho/para/destino' pelo caminho do diretório de destino para as imagens renomeadas\n",
    "diretorio_destino = '/Users/irineu/GitHub/template-matching/template-matching/database/outros/mudada'\n",
    "\n",
    "# Substitua 'novo_prefixo' pelo prefixo desejado para os novos nomes\n",
    "novo_prefixo = 'diferente'\n",
    "\n",
    "renomear_imagens(diretorio_origem, diretorio_destino, novo_prefixo)"
   ],
   "metadata": {
    "collapsed": false
   }
  },
  {
   "cell_type": "code",
   "execution_count": null,
   "outputs": [],
   "source": [],
   "metadata": {
    "collapsed": false
   }
  },
  {
   "cell_type": "code",
   "execution_count": null,
   "outputs": [],
   "source": [],
   "metadata": {
    "collapsed": false
   }
  }
 ],
 "metadata": {
  "kernelspec": {
   "display_name": "Python 3",
   "language": "python",
   "name": "python3"
  },
  "language_info": {
   "codemirror_mode": {
    "name": "ipython",
    "version": 2
   },
   "file_extension": ".py",
   "mimetype": "text/x-python",
   "name": "python",
   "nbconvert_exporter": "python",
   "pygments_lexer": "ipython2",
   "version": "2.7.6"
  }
 },
 "nbformat": 4,
 "nbformat_minor": 0
}
